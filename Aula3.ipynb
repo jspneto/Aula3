{
 "cells": [
  {
   "cell_type": "code",
   "execution_count": 1,
   "metadata": {},
   "outputs": [
    {
     "name": "stdout",
     "output_type": "stream",
     "text": [
      "0 01101 0101010101 = 0.333251953125 ≈ 1/3\n"
     ]
    }
   ],
   "source": [
    "print('0 01101 0101010101 = 0.333251953125 ≈ 1/3')"
   ]
  },
  {
   "cell_type": "code",
   "execution_count": 4,
   "metadata": {},
   "outputs": [
    {
     "name": "stdout",
     "output_type": "stream",
     "text": [
      "0 01101 0101010101 = (-1)^0 * 2^(-2) * (1 + 1*2^(-2) + 1*2^(-4) + 1*2^(-6) + 1*2^(-8) + 1*2^(-10)\n",
      "0 01101 0101010101 = 2^(-2) + 2^(-4) + 2^(-6) + 2^(-8) + 2^(-10) + 2^(-12)\n",
      "0.333251953125\n"
     ]
    }
   ],
   "source": [
    "print('0 01101 0101010101 = (-1)^0 * 2^(-2) * (1 + 1*2^(-2) + 1*2^(-4) + 1*2^(-6) + 1*2^(-8) + 1*2^(-10)')\n",
    "print('0 01101 0101010101 = 2^(-2) + 2^(-4) + 2^(-6) + 2^(-8) + 2^(-10) + 2^(-12)')\n",
    "print(2**(-2) + 2**(-4) + 2**(-6) + 2**(-8) + 2**(-10) + 2**(-12))"
   ]
  },
  {
   "cell_type": "code",
   "execution_count": 7,
   "metadata": {},
   "outputs": [
    {
     "name": "stdout",
     "output_type": "stream",
     "text": [
      "Digite uma cadeia de 16 bits: 0011010101010101\n",
      "0.333251953125\n"
     ]
    }
   ],
   "source": [
    "def conversao(num):\n",
    "    if len(num) != 16:\n",
    "        print(\"Essa sequencia não pode ser convertida!\")\n",
    "    else:\n",
    "        exp = []\n",
    "        mat = []\n",
    "        sig = num[0]\n",
    "        \n",
    "        for i in range(1,6): exp.append(num[i])\n",
    "        for i in range(6,16): mat.append(num[i])\n",
    "        \n",
    "        soma = 0\n",
    "        for i in range(0,len(exp)): soma = soma + int(exp[i])\n",
    "        \n",
    "        if soma == 0:\n",
    "            print(((-1)**int(num[0]))*(2**(-14))*(int(mat[0])*2**(-1) + int(mat[1])*2**(-2) + int(mat[2])*2**(-3) + int(mat[3])*2**(-4) + int(mat[4])*2**(-5) + int(mat[5])*2**(-6) + int(mat[6])*2**(-7) + int(mat[7])*2**(-8) + int(mat[8])*2**(-9) + int(mat[9])*2**(-10)))\n",
    "        else:\n",
    "            if soma == 5:\n",
    "                print('NaN')\n",
    "            else:\n",
    "                e = int(exp[0])*2**(4) + int(exp[1])*2**(3) + int(exp[2])*2**(2) + int(exp[3])*2**(1) + int(exp[4])*2**(0)\n",
    "                print(((-1)**int(num[0]))*(2**(e-15))*(1 + int(mat[0])*2**(-1) + int(mat[1])*2**(-2) + int(mat[2])*2**(-3) + int(mat[3])*2**(-4) + int(mat[4])*2**(-5) + int(mat[5])*2**(-6) + int(mat[6])*2**(-7) + int(mat[7])*2**(-8) + int(mat[8])*2**(-9) + int(mat[9])*2**(-10)))\n",
    "\n",
    "entrada = str(input('Digite uma cadeia de 16 bits: '))\n",
    "conversao(entrada)"
   ]
  }
 ],
 "metadata": {
  "kernelspec": {
   "display_name": "Python 3",
   "language": "python",
   "name": "python3"
  },
  "language_info": {
   "codemirror_mode": {
    "name": "ipython",
    "version": 3
   },
   "file_extension": ".py",
   "mimetype": "text/x-python",
   "name": "python",
   "nbconvert_exporter": "python",
   "pygments_lexer": "ipython3",
   "version": "3.6.6"
  }
 },
 "nbformat": 4,
 "nbformat_minor": 1
}
